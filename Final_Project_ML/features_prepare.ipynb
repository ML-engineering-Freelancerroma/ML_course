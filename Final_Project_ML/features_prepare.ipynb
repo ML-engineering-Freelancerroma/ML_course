{
 "cells": [
  {
   "cell_type": "code",
   "execution_count": 13,
   "id": "1ed1ee89",
   "metadata": {},
   "outputs": [],
   "source": [
    "import os\n",
    "\n",
    "import pandas as pd\n",
    "from sqlalchemy import create_engine\n",
    "from dotenv import load_dotenv\n",
    "\n",
    "load_dotenv()\n",
    "\n",
    "\n",
    "def batch_load_sql(query: str) -> pd.DataFrame:\n",
    "    CHUNKSIZE = 200000\n",
    "    engine = create_engine(os.getenv('DATABASE'))\n",
    "    conn = engine.connect().execution_options(stream_results=True)\n",
    "    chunks = []\n",
    "    for chunk_dataframe in pd.read_sql(query, conn, chunksize=CHUNKSIZE):\n",
    "        chunks.append(chunk_dataframe)\n",
    "    conn.close()\n",
    "    return pd.concat(chunks, ignore_index=True)\n",
    "\n",
    "def load_features(select) -> pd.DataFrame:\n",
    "    return batch_load_sql(select)\n"
   ]
  },
  {
   "cell_type": "code",
   "execution_count": 14,
   "id": "6815d89e",
   "metadata": {},
   "outputs": [
    {
     "data": {
      "text/html": [
       "<div>\n",
       "<style scoped>\n",
       "    .dataframe tbody tr th:only-of-type {\n",
       "        vertical-align: middle;\n",
       "    }\n",
       "\n",
       "    .dataframe tbody tr th {\n",
       "        vertical-align: top;\n",
       "    }\n",
       "\n",
       "    .dataframe thead th {\n",
       "        text-align: right;\n",
       "    }\n",
       "</style>\n",
       "<table border=\"1\" class=\"dataframe\">\n",
       "  <thead>\n",
       "    <tr style=\"text-align: right;\">\n",
       "      <th></th>\n",
       "      <th>post_id</th>\n",
       "      <th>text</th>\n",
       "      <th>topic</th>\n",
       "    </tr>\n",
       "  </thead>\n",
       "  <tbody>\n",
       "    <tr>\n",
       "      <th>0</th>\n",
       "      <td>1</td>\n",
       "      <td>UK economy facing major risks\\n\\nThe UK manufa...</td>\n",
       "      <td>business</td>\n",
       "    </tr>\n",
       "    <tr>\n",
       "      <th>1</th>\n",
       "      <td>2</td>\n",
       "      <td>Aids and climate top Davos agenda\\n\\nClimate c...</td>\n",
       "      <td>business</td>\n",
       "    </tr>\n",
       "    <tr>\n",
       "      <th>2</th>\n",
       "      <td>3</td>\n",
       "      <td>Asian quake hits European shares\\n\\nShares in ...</td>\n",
       "      <td>business</td>\n",
       "    </tr>\n",
       "    <tr>\n",
       "      <th>3</th>\n",
       "      <td>4</td>\n",
       "      <td>India power shares jump on debut\\n\\nShares in ...</td>\n",
       "      <td>business</td>\n",
       "    </tr>\n",
       "    <tr>\n",
       "      <th>4</th>\n",
       "      <td>5</td>\n",
       "      <td>Lacroix label bought by US firm\\n\\nLuxury good...</td>\n",
       "      <td>business</td>\n",
       "    </tr>\n",
       "  </tbody>\n",
       "</table>\n",
       "</div>"
      ],
      "text/plain": [
       "   post_id                                               text     topic\n",
       "0        1  UK economy facing major risks\\n\\nThe UK manufa...  business\n",
       "1        2  Aids and climate top Davos agenda\\n\\nClimate c...  business\n",
       "2        3  Asian quake hits European shares\\n\\nShares in ...  business\n",
       "3        4  India power shares jump on debut\\n\\nShares in ...  business\n",
       "4        5  Lacroix label bought by US firm\\n\\nLuxury good...  business"
      ]
     },
     "execution_count": 14,
     "metadata": {},
     "output_type": "execute_result"
    }
   ],
   "source": [
    "query = \"\"\"\n",
    "SELECT *\n",
    "FROM post_text_df\n",
    "\"\"\"\n",
    "posts_df = load_features(query)\n",
    "\n",
    "posts_df.head()"
   ]
  },
  {
   "cell_type": "code",
   "execution_count": 15,
   "id": "f8a03244",
   "metadata": {},
   "outputs": [],
   "source": [
    "# Find total likes, likes rate for every post"
   ]
  },
  {
   "cell_type": "code",
   "execution_count": 16,
   "id": "db776339",
   "metadata": {},
   "outputs": [],
   "source": [
    "query = \"\"\"\n",
    "SELECT COUNT(*), post_id\n",
    "FROM feed_data\n",
    "WHERE action = 'like'\n",
    "GROUP BY post_id;\n",
    "\"\"\"\n",
    "posts_likes = load_features(query)\n",
    "posts_likes = posts_likes.set_index('post_id')"
   ]
  },
  {
   "cell_type": "code",
   "execution_count": 17,
   "id": "cefe1855",
   "metadata": {},
   "outputs": [],
   "source": [
    "posts_df['total_likes'] = posts_df['post_id'].map(posts_likes['count'])"
   ]
  },
  {
   "cell_type": "code",
   "execution_count": 18,
   "id": "d86993f2",
   "metadata": {},
   "outputs": [],
   "source": [
    "query = \"\"\"\n",
    "SELECT COUNT(*), post_id\n",
    "FROM feed_data\n",
    "GROUP BY post_id;\n",
    "\"\"\"\n",
    "posts_actions = load_features(query)\n",
    "posts_actions = posts_actions.set_index('post_id')"
   ]
  },
  {
   "cell_type": "code",
   "execution_count": 19,
   "id": "e35c6ae7",
   "metadata": {},
   "outputs": [],
   "source": [
    "posts_df['like_rate'] = posts_df['post_id'].map(posts_likes['count']/posts_actions['count'])"
   ]
  },
  {
   "cell_type": "code",
   "execution_count": 25,
   "id": "410b5209",
   "metadata": {},
   "outputs": [
    {
     "data": {
      "text/plain": [
       "post_id        0\n",
       "text           0\n",
       "topic          0\n",
       "total_likes    0\n",
       "like_rate      0\n",
       "dtype: int64"
      ]
     },
     "execution_count": 25,
     "metadata": {},
     "output_type": "execute_result"
    }
   ],
   "source": [
    "posts_df.isnull().sum()"
   ]
  },
  {
   "cell_type": "code",
   "execution_count": 21,
   "id": "36d6f9cf",
   "metadata": {},
   "outputs": [],
   "source": [
    "posts_df['like_rate'] = posts_df['like_rate'].fillna(posts_df['like_rate'].mean())\n",
    "posts_df['total_likes'] = posts_df['total_likes'].fillna(posts_df['total_likes'].mean())"
   ]
  },
  {
   "cell_type": "code",
   "execution_count": 22,
   "id": "678ca9f5",
   "metadata": {},
   "outputs": [],
   "source": [
    "# Add feature - average age for each post"
   ]
  },
  {
   "cell_type": "code",
   "execution_count": null,
   "id": "cb57add6",
   "metadata": {},
   "outputs": [],
   "source": [
    "query = \"\"\"\n",
    "SELECT AVG(u.age), f.post_id\n",
    "FROM feed_data as f\n",
    "JOIN user_data as u\n",
    "ON f.user_id = u.user_id\n",
    "JOIN post_text_df as p\n",
    "ON f.post_id = p.post_id\n",
    "WHERE action = 'like'\n",
    "GROUP BY p.post_id\n",
    "\"\"\"\n",
    "posts_age_likes = load_features(query)\n",
    "posts_age_likes = posts_age_likes.set_index('post_id')"
   ]
  }
 ],
 "metadata": {
  "kernelspec": {
   "display_name": "Python 3",
   "language": "python",
   "name": "python3"
  },
  "language_info": {
   "codemirror_mode": {
    "name": "ipython",
    "version": 3
   },
   "file_extension": ".py",
   "mimetype": "text/x-python",
   "name": "python",
   "nbconvert_exporter": "python",
   "pygments_lexer": "ipython3",
   "version": "3.11.5"
  }
 },
 "nbformat": 4,
 "nbformat_minor": 5
}
