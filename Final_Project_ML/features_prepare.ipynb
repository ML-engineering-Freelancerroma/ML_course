{
 "cells": [
  {
   "cell_type": "code",
   "execution_count": 13,
   "id": "1ed1ee89",
   "metadata": {},
   "outputs": [],
   "source": [
    "import os\n",
    "\n",
    "import pandas as pd\n",
    "from sqlalchemy import create_engine\n",
    "from dotenv import load_dotenv\n",
    "\n",
    "load_dotenv()\n",
    "\n",
    "\n",
    "def batch_load_sql(query: str) -> pd.DataFrame:\n",
    "    CHUNKSIZE = 200000\n",
    "    engine = create_engine(os.getenv('DATABASE'))\n",
    "    conn = engine.connect().execution_options(stream_results=True)\n",
    "    chunks = []\n",
    "    for chunk_dataframe in pd.read_sql(query, conn, chunksize=CHUNKSIZE):\n",
    "        chunks.append(chunk_dataframe)\n",
    "    conn.close()\n",
    "    return pd.concat(chunks, ignore_index=True)\n",
    "\n",
    "def load_features(select) -> pd.DataFrame:\n",
    "    return batch_load_sql(select)\n"
   ]
  },
  {
   "cell_type": "code",
   "execution_count": 16,
   "id": "27ce76e6",
   "metadata": {},
   "outputs": [
    {
     "data": {
      "text/html": [
       "<div>\n",
       "<style scoped>\n",
       "    .dataframe tbody tr th:only-of-type {\n",
       "        vertical-align: middle;\n",
       "    }\n",
       "\n",
       "    .dataframe tbody tr th {\n",
       "        vertical-align: top;\n",
       "    }\n",
       "\n",
       "    .dataframe thead th {\n",
       "        text-align: right;\n",
       "    }\n",
       "</style>\n",
       "<table border=\"1\" class=\"dataframe\">\n",
       "  <thead>\n",
       "    <tr style=\"text-align: right;\">\n",
       "      <th></th>\n",
       "      <th>user_id</th>\n",
       "      <th>gender</th>\n",
       "      <th>age</th>\n",
       "      <th>country</th>\n",
       "      <th>city</th>\n",
       "      <th>exp_group</th>\n",
       "      <th>os</th>\n",
       "      <th>source</th>\n",
       "    </tr>\n",
       "  </thead>\n",
       "  <tbody>\n",
       "    <tr>\n",
       "      <th>0</th>\n",
       "      <td>200</td>\n",
       "      <td>1</td>\n",
       "      <td>34</td>\n",
       "      <td>Russia</td>\n",
       "      <td>Degtyarsk</td>\n",
       "      <td>3</td>\n",
       "      <td>Android</td>\n",
       "      <td>ads</td>\n",
       "    </tr>\n",
       "    <tr>\n",
       "      <th>1</th>\n",
       "      <td>201</td>\n",
       "      <td>0</td>\n",
       "      <td>37</td>\n",
       "      <td>Russia</td>\n",
       "      <td>Abakan</td>\n",
       "      <td>0</td>\n",
       "      <td>Android</td>\n",
       "      <td>ads</td>\n",
       "    </tr>\n",
       "    <tr>\n",
       "      <th>2</th>\n",
       "      <td>202</td>\n",
       "      <td>1</td>\n",
       "      <td>17</td>\n",
       "      <td>Russia</td>\n",
       "      <td>Smolensk</td>\n",
       "      <td>4</td>\n",
       "      <td>Android</td>\n",
       "      <td>ads</td>\n",
       "    </tr>\n",
       "    <tr>\n",
       "      <th>3</th>\n",
       "      <td>203</td>\n",
       "      <td>0</td>\n",
       "      <td>18</td>\n",
       "      <td>Russia</td>\n",
       "      <td>Moscow</td>\n",
       "      <td>1</td>\n",
       "      <td>iOS</td>\n",
       "      <td>ads</td>\n",
       "    </tr>\n",
       "    <tr>\n",
       "      <th>4</th>\n",
       "      <td>204</td>\n",
       "      <td>0</td>\n",
       "      <td>36</td>\n",
       "      <td>Russia</td>\n",
       "      <td>Anzhero-Sudzhensk</td>\n",
       "      <td>3</td>\n",
       "      <td>Android</td>\n",
       "      <td>ads</td>\n",
       "    </tr>\n",
       "  </tbody>\n",
       "</table>\n",
       "</div>"
      ],
      "text/plain": [
       "   user_id  gender  age country               city  exp_group       os source\n",
       "0      200       1   34  Russia          Degtyarsk          3  Android    ads\n",
       "1      201       0   37  Russia             Abakan          0  Android    ads\n",
       "2      202       1   17  Russia           Smolensk          4  Android    ads\n",
       "3      203       0   18  Russia             Moscow          1      iOS    ads\n",
       "4      204       0   36  Russia  Anzhero-Sudzhensk          3  Android    ads"
      ]
     },
     "execution_count": 16,
     "metadata": {},
     "output_type": "execute_result"
    }
   ],
   "source": [
    "query = 'SELECT * FROM user_data'\n",
    "user_data_df = load_features(query)\n",
    "\n",
    "user_data_df.head()"
   ]
  },
  {
   "cell_type": "code",
   "execution_count": 17,
   "id": "6702d0b0",
   "metadata": {},
   "outputs": [
    {
     "data": {
      "text/plain": [
       "(163205, 8)"
      ]
     },
     "execution_count": 17,
     "metadata": {},
     "output_type": "execute_result"
    }
   ],
   "source": [
    "user_data_df.shape"
   ]
  }
 ],
 "metadata": {
  "kernelspec": {
   "display_name": "Python 3",
   "language": "python",
   "name": "python3"
  },
  "language_info": {
   "codemirror_mode": {
    "name": "ipython",
    "version": 3
   },
   "file_extension": ".py",
   "mimetype": "text/x-python",
   "name": "python",
   "nbconvert_exporter": "python",
   "pygments_lexer": "ipython3",
   "version": "3.11.5"
  }
 },
 "nbformat": 4,
 "nbformat_minor": 5
}
