{
 "cells": [
  {
   "cell_type": "code",
   "execution_count": 1,
   "id": "1ed1ee89",
   "metadata": {},
   "outputs": [],
   "source": [
    "import os\n",
    "\n",
    "import pandas as pd\n",
    "from sqlalchemy import create_engine\n",
    "from dotenv import load_dotenv\n",
    "\n",
    "load_dotenv()\n",
    "\n",
    "\n",
    "def batch_load_sql(query: str) -> pd.DataFrame:\n",
    "    CHUNKSIZE = 200000\n",
    "    engine = create_engine(os.getenv('DATABASE'))\n",
    "    conn = engine.connect().execution_options(stream_results=True)\n",
    "    chunks = []\n",
    "    for chunk_dataframe in pd.read_sql(query, conn, chunksize=CHUNKSIZE):\n",
    "        chunks.append(chunk_dataframe)\n",
    "    conn.close()\n",
    "    return pd.concat(chunks, ignore_index=True)\n",
    "\n",
    "def load_features(select) -> pd.DataFrame:\n",
    "    return batch_load_sql(select)\n"
   ]
  },
  {
   "cell_type": "code",
   "execution_count": 2,
   "id": "6815d89e",
   "metadata": {},
   "outputs": [
    {
     "data": {
      "text/html": [
       "<div>\n",
       "<style scoped>\n",
       "    .dataframe tbody tr th:only-of-type {\n",
       "        vertical-align: middle;\n",
       "    }\n",
       "\n",
       "    .dataframe tbody tr th {\n",
       "        vertical-align: top;\n",
       "    }\n",
       "\n",
       "    .dataframe thead th {\n",
       "        text-align: right;\n",
       "    }\n",
       "</style>\n",
       "<table border=\"1\" class=\"dataframe\">\n",
       "  <thead>\n",
       "    <tr style=\"text-align: right;\">\n",
       "      <th></th>\n",
       "      <th>post_id</th>\n",
       "      <th>text</th>\n",
       "      <th>topic</th>\n",
       "    </tr>\n",
       "  </thead>\n",
       "  <tbody>\n",
       "    <tr>\n",
       "      <th>0</th>\n",
       "      <td>1</td>\n",
       "      <td>UK economy facing major risks\\n\\nThe UK manufa...</td>\n",
       "      <td>business</td>\n",
       "    </tr>\n",
       "    <tr>\n",
       "      <th>1</th>\n",
       "      <td>2</td>\n",
       "      <td>Aids and climate top Davos agenda\\n\\nClimate c...</td>\n",
       "      <td>business</td>\n",
       "    </tr>\n",
       "    <tr>\n",
       "      <th>2</th>\n",
       "      <td>3</td>\n",
       "      <td>Asian quake hits European shares\\n\\nShares in ...</td>\n",
       "      <td>business</td>\n",
       "    </tr>\n",
       "    <tr>\n",
       "      <th>3</th>\n",
       "      <td>4</td>\n",
       "      <td>India power shares jump on debut\\n\\nShares in ...</td>\n",
       "      <td>business</td>\n",
       "    </tr>\n",
       "    <tr>\n",
       "      <th>4</th>\n",
       "      <td>5</td>\n",
       "      <td>Lacroix label bought by US firm\\n\\nLuxury good...</td>\n",
       "      <td>business</td>\n",
       "    </tr>\n",
       "  </tbody>\n",
       "</table>\n",
       "</div>"
      ],
      "text/plain": [
       "   post_id                                               text     topic\n",
       "0        1  UK economy facing major risks\\n\\nThe UK manufa...  business\n",
       "1        2  Aids and climate top Davos agenda\\n\\nClimate c...  business\n",
       "2        3  Asian quake hits European shares\\n\\nShares in ...  business\n",
       "3        4  India power shares jump on debut\\n\\nShares in ...  business\n",
       "4        5  Lacroix label bought by US firm\\n\\nLuxury good...  business"
      ]
     },
     "execution_count": 2,
     "metadata": {},
     "output_type": "execute_result"
    }
   ],
   "source": [
    "query = \"\"\"\n",
    "SELECT *\n",
    "FROM post_text_df\n",
    "\"\"\"\n",
    "posts_df = load_features(query)\n",
    "\n",
    "posts_df.head()"
   ]
  },
  {
   "cell_type": "code",
   "execution_count": 3,
   "id": "f8a03244",
   "metadata": {},
   "outputs": [],
   "source": [
    "# Find total likes, likes rate for every post"
   ]
  },
  {
   "cell_type": "code",
   "execution_count": 4,
   "id": "db776339",
   "metadata": {},
   "outputs": [],
   "source": [
    "query = \"\"\"\n",
    "SELECT COUNT(*), post_id\n",
    "FROM feed_data\n",
    "WHERE action = 'like'\n",
    "GROUP BY post_id;\n",
    "\"\"\"\n",
    "posts_likes = load_features(query)\n",
    "posts_likes = posts_likes.set_index('post_id')"
   ]
  },
  {
   "cell_type": "code",
   "execution_count": 5,
   "id": "cefe1855",
   "metadata": {},
   "outputs": [],
   "source": [
    "posts_df['total_likes'] = posts_df['post_id'].map(posts_likes['count'])"
   ]
  },
  {
   "cell_type": "code",
   "execution_count": 6,
   "id": "d86993f2",
   "metadata": {},
   "outputs": [],
   "source": [
    "query = \"\"\"\n",
    "SELECT COUNT(*), post_id\n",
    "FROM feed_data\n",
    "GROUP BY post_id;\n",
    "\"\"\"\n",
    "posts_actions = load_features(query)\n",
    "posts_actions = posts_actions.set_index('post_id')"
   ]
  },
  {
   "cell_type": "code",
   "execution_count": 7,
   "id": "e35c6ae7",
   "metadata": {},
   "outputs": [],
   "source": [
    "posts_df['like_rate'] = posts_df['post_id'].map(posts_likes['count']/posts_actions['count'])"
   ]
  },
  {
   "cell_type": "code",
   "execution_count": 8,
   "id": "410b5209",
   "metadata": {},
   "outputs": [
    {
     "data": {
      "text/plain": [
       "post_id          0\n",
       "text             0\n",
       "topic            0\n",
       "total_likes    192\n",
       "like_rate      192\n",
       "dtype: int64"
      ]
     },
     "execution_count": 8,
     "metadata": {},
     "output_type": "execute_result"
    }
   ],
   "source": [
    "posts_df.isnull().sum()"
   ]
  },
  {
   "cell_type": "code",
   "execution_count": 9,
   "id": "36d6f9cf",
   "metadata": {},
   "outputs": [],
   "source": [
    "posts_df['like_rate'] = posts_df['like_rate'].fillna(posts_df['like_rate'].mean())\n",
    "posts_df['total_likes'] = posts_df['total_likes'].fillna(posts_df['total_likes'].mean())"
   ]
  },
  {
   "cell_type": "code",
   "execution_count": 10,
   "id": "678ca9f5",
   "metadata": {},
   "outputs": [],
   "source": [
    "# Add feature - average age for each post"
   ]
  },
  {
   "cell_type": "code",
   "execution_count": 11,
   "id": "cb57add6",
   "metadata": {},
   "outputs": [],
   "source": [
    "query = \"\"\"\n",
    "SELECT AVG(u.age), p.post_id\n",
    "FROM feed_data as f\n",
    "JOIN user_data as u\n",
    "ON f.user_id = u.user_id\n",
    "JOIN post_text_df as p\n",
    "ON f.post_id = p.post_id\n",
    "WHERE action = 'like'\n",
    "GROUP BY p.post_id\n",
    "\"\"\"\n",
    "posts_age_likes = load_features(query)\n",
    "posts_age_likes = posts_age_likes.set_index('post_id')"
   ]
  },
  {
   "cell_type": "code",
   "execution_count": 12,
   "id": "c78c118f",
   "metadata": {},
   "outputs": [],
   "source": [
    "posts_df['avg_age_likes'] = posts_df['post_id'].map(posts_age_likes['avg'])"
   ]
  },
  {
   "cell_type": "code",
   "execution_count": 13,
   "id": "8d0bd3a8",
   "metadata": {},
   "outputs": [
    {
     "data": {
      "text/plain": [
       "post_id            0\n",
       "text               0\n",
       "topic              0\n",
       "total_likes        0\n",
       "like_rate          0\n",
       "avg_age_likes    192\n",
       "dtype: int64"
      ]
     },
     "execution_count": 13,
     "metadata": {},
     "output_type": "execute_result"
    }
   ],
   "source": [
    "posts_df.isnull().sum()"
   ]
  },
  {
   "cell_type": "code",
   "execution_count": 14,
   "id": "69a12d6f",
   "metadata": {},
   "outputs": [],
   "source": [
    "posts_df['avg_age_likes'] = posts_df['avg_age_likes'].fillna(posts_df['avg_age_likes'].mean())"
   ]
  },
  {
   "cell_type": "code",
   "execution_count": 15,
   "id": "625eb7c6",
   "metadata": {},
   "outputs": [],
   "source": [
    "# Add feature - total length for each post (symbols)"
   ]
  },
  {
   "cell_type": "code",
   "execution_count": 16,
   "id": "a7e91526",
   "metadata": {},
   "outputs": [],
   "source": [
    "query = \"\"\"\n",
    "SELECT post_id, LENGTH(text) AS post_len\n",
    "FROM post_text_df;\n",
    "\"\"\"\n",
    "posts_len = load_features(query)\n",
    "posts_len = posts_len.set_index('post_id')"
   ]
  },
  {
   "cell_type": "code",
   "execution_count": 17,
   "id": "9ebee7ba",
   "metadata": {},
   "outputs": [],
   "source": [
    "posts_df['post_len'] = posts_df['post_id'].map(posts_len['post_len'])"
   ]
  },
  {
   "cell_type": "code",
   "execution_count": 18,
   "id": "a7ae7c5c",
   "metadata": {},
   "outputs": [
    {
     "data": {
      "text/html": [
       "<div>\n",
       "<style scoped>\n",
       "    .dataframe tbody tr th:only-of-type {\n",
       "        vertical-align: middle;\n",
       "    }\n",
       "\n",
       "    .dataframe tbody tr th {\n",
       "        vertical-align: top;\n",
       "    }\n",
       "\n",
       "    .dataframe thead th {\n",
       "        text-align: right;\n",
       "    }\n",
       "</style>\n",
       "<table border=\"1\" class=\"dataframe\">\n",
       "  <thead>\n",
       "    <tr style=\"text-align: right;\">\n",
       "      <th></th>\n",
       "      <th>post_id</th>\n",
       "      <th>text</th>\n",
       "      <th>topic</th>\n",
       "      <th>total_likes</th>\n",
       "      <th>like_rate</th>\n",
       "      <th>avg_age_likes</th>\n",
       "      <th>post_len</th>\n",
       "    </tr>\n",
       "  </thead>\n",
       "  <tbody>\n",
       "    <tr>\n",
       "      <th>0</th>\n",
       "      <td>1</td>\n",
       "      <td>UK economy facing major risks\\n\\nThe UK manufa...</td>\n",
       "      <td>business</td>\n",
       "      <td>1067.0</td>\n",
       "      <td>0.111436</td>\n",
       "      <td>29.099344</td>\n",
       "      <td>1967</td>\n",
       "    </tr>\n",
       "    <tr>\n",
       "      <th>1</th>\n",
       "      <td>2</td>\n",
       "      <td>Aids and climate top Davos agenda\\n\\nClimate c...</td>\n",
       "      <td>business</td>\n",
       "      <td>637.0</td>\n",
       "      <td>0.078333</td>\n",
       "      <td>31.910518</td>\n",
       "      <td>2701</td>\n",
       "    </tr>\n",
       "    <tr>\n",
       "      <th>2</th>\n",
       "      <td>3</td>\n",
       "      <td>Asian quake hits European shares\\n\\nShares in ...</td>\n",
       "      <td>business</td>\n",
       "      <td>1122.0</td>\n",
       "      <td>0.117684</td>\n",
       "      <td>29.262923</td>\n",
       "      <td>3408</td>\n",
       "    </tr>\n",
       "    <tr>\n",
       "      <th>3</th>\n",
       "      <td>4</td>\n",
       "      <td>India power shares jump on debut\\n\\nShares in ...</td>\n",
       "      <td>business</td>\n",
       "      <td>1171.0</td>\n",
       "      <td>0.125523</td>\n",
       "      <td>29.084543</td>\n",
       "      <td>1026</td>\n",
       "    </tr>\n",
       "    <tr>\n",
       "      <th>4</th>\n",
       "      <td>5</td>\n",
       "      <td>Lacroix label bought by US firm\\n\\nLuxury good...</td>\n",
       "      <td>business</td>\n",
       "      <td>1153.0</td>\n",
       "      <td>0.118426</td>\n",
       "      <td>29.479618</td>\n",
       "      <td>889</td>\n",
       "    </tr>\n",
       "    <tr>\n",
       "      <th>...</th>\n",
       "      <td>...</td>\n",
       "      <td>...</td>\n",
       "      <td>...</td>\n",
       "      <td>...</td>\n",
       "      <td>...</td>\n",
       "      <td>...</td>\n",
       "      <td>...</td>\n",
       "    </tr>\n",
       "    <tr>\n",
       "      <th>7018</th>\n",
       "      <td>7315</td>\n",
       "      <td>OK, I would not normally watch a Farrelly brot...</td>\n",
       "      <td>movie</td>\n",
       "      <td>2619.0</td>\n",
       "      <td>0.133903</td>\n",
       "      <td>22.554792</td>\n",
       "      <td>803</td>\n",
       "    </tr>\n",
       "    <tr>\n",
       "      <th>7019</th>\n",
       "      <td>7316</td>\n",
       "      <td>I give this movie 2 stars purely because of it...</td>\n",
       "      <td>movie</td>\n",
       "      <td>677.0</td>\n",
       "      <td>0.093392</td>\n",
       "      <td>31.441654</td>\n",
       "      <td>800</td>\n",
       "    </tr>\n",
       "    <tr>\n",
       "      <th>7020</th>\n",
       "      <td>7317</td>\n",
       "      <td>I cant believe this film was allowed to be mad...</td>\n",
       "      <td>movie</td>\n",
       "      <td>731.0</td>\n",
       "      <td>0.097027</td>\n",
       "      <td>31.885089</td>\n",
       "      <td>636</td>\n",
       "    </tr>\n",
       "    <tr>\n",
       "      <th>7021</th>\n",
       "      <td>7318</td>\n",
       "      <td>The version I saw of this film was the Blockbu...</td>\n",
       "      <td>movie</td>\n",
       "      <td>680.0</td>\n",
       "      <td>0.091092</td>\n",
       "      <td>32.423529</td>\n",
       "      <td>728</td>\n",
       "    </tr>\n",
       "    <tr>\n",
       "      <th>7022</th>\n",
       "      <td>7319</td>\n",
       "      <td>Piece of subtle art. Maybe a masterpiece. Doub...</td>\n",
       "      <td>movie</td>\n",
       "      <td>720.0</td>\n",
       "      <td>0.098563</td>\n",
       "      <td>31.700000</td>\n",
       "      <td>790</td>\n",
       "    </tr>\n",
       "  </tbody>\n",
       "</table>\n",
       "<p>7023 rows × 7 columns</p>\n",
       "</div>"
      ],
      "text/plain": [
       "      post_id                                               text     topic  \\\n",
       "0           1  UK economy facing major risks\\n\\nThe UK manufa...  business   \n",
       "1           2  Aids and climate top Davos agenda\\n\\nClimate c...  business   \n",
       "2           3  Asian quake hits European shares\\n\\nShares in ...  business   \n",
       "3           4  India power shares jump on debut\\n\\nShares in ...  business   \n",
       "4           5  Lacroix label bought by US firm\\n\\nLuxury good...  business   \n",
       "...       ...                                                ...       ...   \n",
       "7018     7315  OK, I would not normally watch a Farrelly brot...     movie   \n",
       "7019     7316  I give this movie 2 stars purely because of it...     movie   \n",
       "7020     7317  I cant believe this film was allowed to be mad...     movie   \n",
       "7021     7318  The version I saw of this film was the Blockbu...     movie   \n",
       "7022     7319  Piece of subtle art. Maybe a masterpiece. Doub...     movie   \n",
       "\n",
       "      total_likes  like_rate  avg_age_likes  post_len  \n",
       "0          1067.0   0.111436      29.099344      1967  \n",
       "1           637.0   0.078333      31.910518      2701  \n",
       "2          1122.0   0.117684      29.262923      3408  \n",
       "3          1171.0   0.125523      29.084543      1026  \n",
       "4          1153.0   0.118426      29.479618       889  \n",
       "...           ...        ...            ...       ...  \n",
       "7018       2619.0   0.133903      22.554792       803  \n",
       "7019        677.0   0.093392      31.441654       800  \n",
       "7020        731.0   0.097027      31.885089       636  \n",
       "7021        680.0   0.091092      32.423529       728  \n",
       "7022        720.0   0.098563      31.700000       790  \n",
       "\n",
       "[7023 rows x 7 columns]"
      ]
     },
     "execution_count": 18,
     "metadata": {},
     "output_type": "execute_result"
    }
   ],
   "source": [
    "posts_df"
   ]
  },
  {
   "cell_type": "code",
   "execution_count": 19,
   "id": "73dec0bd",
   "metadata": {},
   "outputs": [],
   "source": [
    "# Add feature - average sentence length (len text in words / sentences count)"
   ]
  },
  {
   "cell_type": "code",
   "execution_count": 19,
   "id": "56c579b2",
   "metadata": {},
   "outputs": [],
   "source": [
    "query = \"\"\"\n",
    "SELECT \n",
    "    post_id,\n",
    "    text,\n",
    "    array_length(regexp_split_to_array(trim(regexp_replace(text_column, '\\s+', ' ', 'g')), ' '), 1)\n",
    "    AS word_count\n",
    "FROM post_text_df\n",
    "\"\"\""
   ]
  }
 ],
 "metadata": {
  "kernelspec": {
   "display_name": "Python 3",
   "language": "python",
   "name": "python3"
  },
  "language_info": {
   "codemirror_mode": {
    "name": "ipython",
    "version": 3
   },
   "file_extension": ".py",
   "mimetype": "text/x-python",
   "name": "python",
   "nbconvert_exporter": "python",
   "pygments_lexer": "ipython3",
   "version": "3.11.5"
  }
 },
 "nbformat": 4,
 "nbformat_minor": 5
}
