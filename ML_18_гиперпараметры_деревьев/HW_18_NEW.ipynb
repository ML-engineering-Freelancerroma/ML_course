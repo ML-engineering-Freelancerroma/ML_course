{
 "cells": [
  {
   "cell_type": "code",
   "execution_count": 1,
   "metadata": {
    "id": "x9TbZ0UyyF0I"
   },
   "outputs": [],
   "source": [
    "import pandas as pd\n",
    "import numpy as np\n",
    "import matplotlib.pyplot as plt\n",
    "import seaborn as sns\n",
    "\n",
    "pd.options.display.max_columns = 500"
   ]
  },
  {
   "cell_type": "markdown",
   "metadata": {
    "id": "eCHwqIE8yF0M"
   },
   "source": [
    "### Загрузим датасет с машинами. Цель - верно восстанавливать для каждой из них цену продажи!"
   ]
  },
  {
   "cell_type": "code",
   "execution_count": 2,
   "metadata": {
    "id": "vHohclJJyF0O"
   },
   "outputs": [
    {
     "data": {
      "text/html": [
       "<div>\n",
       "<style scoped>\n",
       "    .dataframe tbody tr th:only-of-type {\n",
       "        vertical-align: middle;\n",
       "    }\n",
       "\n",
       "    .dataframe tbody tr th {\n",
       "        vertical-align: top;\n",
       "    }\n",
       "\n",
       "    .dataframe thead th {\n",
       "        text-align: right;\n",
       "    }\n",
       "</style>\n",
       "<table border=\"1\" class=\"dataframe\">\n",
       "  <thead>\n",
       "    <tr style=\"text-align: right;\">\n",
       "      <th></th>\n",
       "      <th>name</th>\n",
       "      <th>year</th>\n",
       "      <th>selling_price</th>\n",
       "      <th>km_driven</th>\n",
       "      <th>fuel</th>\n",
       "      <th>seller_type</th>\n",
       "      <th>transmission</th>\n",
       "      <th>owner</th>\n",
       "    </tr>\n",
       "  </thead>\n",
       "  <tbody>\n",
       "    <tr>\n",
       "      <th>0</th>\n",
       "      <td>Maruti 800 AC</td>\n",
       "      <td>2007</td>\n",
       "      <td>60000</td>\n",
       "      <td>70000</td>\n",
       "      <td>Petrol</td>\n",
       "      <td>Individual</td>\n",
       "      <td>Manual</td>\n",
       "      <td>First Owner</td>\n",
       "    </tr>\n",
       "    <tr>\n",
       "      <th>1</th>\n",
       "      <td>Maruti Wagon R LXI Minor</td>\n",
       "      <td>2007</td>\n",
       "      <td>135000</td>\n",
       "      <td>50000</td>\n",
       "      <td>Petrol</td>\n",
       "      <td>Individual</td>\n",
       "      <td>Manual</td>\n",
       "      <td>First Owner</td>\n",
       "    </tr>\n",
       "    <tr>\n",
       "      <th>2</th>\n",
       "      <td>Hyundai Verna 1.6 SX</td>\n",
       "      <td>2012</td>\n",
       "      <td>600000</td>\n",
       "      <td>100000</td>\n",
       "      <td>Diesel</td>\n",
       "      <td>Individual</td>\n",
       "      <td>Manual</td>\n",
       "      <td>First Owner</td>\n",
       "    </tr>\n",
       "    <tr>\n",
       "      <th>3</th>\n",
       "      <td>Datsun RediGO T Option</td>\n",
       "      <td>2017</td>\n",
       "      <td>250000</td>\n",
       "      <td>46000</td>\n",
       "      <td>Petrol</td>\n",
       "      <td>Individual</td>\n",
       "      <td>Manual</td>\n",
       "      <td>First Owner</td>\n",
       "    </tr>\n",
       "    <tr>\n",
       "      <th>4</th>\n",
       "      <td>Honda Amaze VX i-DTEC</td>\n",
       "      <td>2014</td>\n",
       "      <td>450000</td>\n",
       "      <td>141000</td>\n",
       "      <td>Diesel</td>\n",
       "      <td>Individual</td>\n",
       "      <td>Manual</td>\n",
       "      <td>Second Owner</td>\n",
       "    </tr>\n",
       "  </tbody>\n",
       "</table>\n",
       "</div>"
      ],
      "text/plain": [
       "                       name  year  selling_price  km_driven    fuel  \\\n",
       "0             Maruti 800 AC  2007          60000      70000  Petrol   \n",
       "1  Maruti Wagon R LXI Minor  2007         135000      50000  Petrol   \n",
       "2      Hyundai Verna 1.6 SX  2012         600000     100000  Diesel   \n",
       "3    Datsun RediGO T Option  2017         250000      46000  Petrol   \n",
       "4     Honda Amaze VX i-DTEC  2014         450000     141000  Diesel   \n",
       "\n",
       "  seller_type transmission         owner  \n",
       "0  Individual       Manual   First Owner  \n",
       "1  Individual       Manual   First Owner  \n",
       "2  Individual       Manual   First Owner  \n",
       "3  Individual       Manual   First Owner  \n",
       "4  Individual       Manual  Second Owner  "
      ]
     },
     "execution_count": 2,
     "metadata": {},
     "output_type": "execute_result"
    }
   ],
   "source": [
    "data = pd.read_csv('autos.csv')\n",
    "\n",
    "data.head()"
   ]
  },
  {
   "cell_type": "code",
   "execution_count": 3,
   "metadata": {
    "id": "_48JHObiyF0P"
   },
   "outputs": [],
   "source": [
    "### Колонка с тергетом - \"selling price\"\n",
    "\n",
    "X = data.drop(\"selling_price\", axis=1)\n",
    "y = data[\"selling_price\"]\n",
    "\n",
    "### Будем замерять MSLE!\n",
    "### Поэтому прологарифмируем таргет\n",
    "### А после оптимизируем MSE\n",
    "\n",
    "y = y.apply(np.log1p)"
   ]
  },
  {
   "cell_type": "code",
   "execution_count": 4,
   "metadata": {
    "id": "-7qoCjH_yF0Q"
   },
   "outputs": [],
   "source": [
    "### Разделим выборку на трейн и тест!\n",
    "\n",
    "from sklearn.model_selection import train_test_split \n",
    "\n",
    "X_train, X_test, y_train, y_test = train_test_split(X, y, test_size=0.2, random_state=1)"
   ]
  },
  {
   "cell_type": "markdown",
   "metadata": {
    "id": "T2Cawl_lyF0Q"
   },
   "source": [
    "__Задание__ \n",
    "\n",
    "Реализуйте свой MeanTargetEncoder с добавленем некоторого шума!\n",
    "\n",
    "Однажды в лекционном материале, обсуждая счетчики, мы говорили с вами о том, что из-за них модели могут переобучаться. Один из способов бороться с этим - валидировать расчеты среднего таргета (стратегия отложенной выборки / расчеты на кросс-валидации). Но есть еще проще!\n",
    "\n",
    "Можно просто к значению счетчика добавить случайный шум (зашумить данные)!\n",
    "\n",
    "Напомним, что рассчитываться новые признаки должны по такой формуле:\n",
    "\n",
    "$$\n",
    "g_j = \\frac{\\sum_{i=1}^{l} [f_j(x) = f_j(x_i)]}{l} + C * \\epsilon\n",
    "$$\n",
    "\n",
    "\n",
    "\n",
    "Пусть шум будет случайной величиной из нормального стандартного распределения, то есть $\\epsilon \\sim N(0, 1) $, а $ C = 0.006$."
   ]
  },
  {
   "cell_type": "markdown",
   "metadata": {
    "id": "DeVJ1WRbyF0R"
   },
   "source": [
    "Создавая свой класс-трансформер, наследуйтесь от классов `BaseEstimator, TransformerMixin` из `sklearn.base`. Трансформер не должен модифицировать передаваемую ему выборку inplace, а все необходимые статистики нужно считать только по обучающей выборке в методе `fit`. Ваш трансформер должен принимать при инициализации список из категориальных признаков и список из числовых признаков. \n",
    "\n",
    "Если для какого-то признака в тестовой выборке отсутствует значение, трансформер должен поставить там 0.\n",
    "\n",
    "На выходе должен получиться датасет того же размера с измененными категориальными признаками."
   ]
  },
  {
   "cell_type": "markdown",
   "metadata": {
    "id": "Yvgr07YgVpkR"
   },
   "source": [
    "Класс MeanTargetEncoderNoise должен иметь следующую сигнатуру:\n",
    "\n"
   ]
  },
  {
   "cell_type": "code",
   "execution_count": 5,
   "metadata": {
    "id": "ZcM2Ax1CWBlY"
   },
   "outputs": [],
   "source": [
    "# from sklearn.base import BaseEstimator, TransformerMixin\n",
    "\n",
    "# class MeanTargetEncoderNoise(BaseEstimator, TransformerMixin):\n",
    "    \n",
    "#     def __init__(self, categorical, numeric):\n",
    "        \n",
    "#         ### Your code is here\n",
    "    \n",
    "#     def fit(self, X, y):\n",
    "\n",
    "#         ### Your code is here\n",
    "\n",
    "#         return self\n",
    "        \n",
    "#     def transform(self, df):\n",
    "        \n",
    "#         ### Your code is here\n",
    "        \n",
    "#         return temp\n",
    "    "
   ]
  },
  {
   "cell_type": "markdown",
   "metadata": {
    "id": "4s8IjJMbViVS"
   },
   "source": [
    "Разделите колонки на вещественные и категориальные. Приведите все категориальные колонки к типу `object`.\n",
    "\n",
    "Далее применим наш кодировщик к `X_train, X_test`, так же как например мы применяем `StandardScaler`, чтобы проверить работоспособность нашего класса. Установите зерно датчика случайный чисел `np.random.seed(1)`.\n",
    "\n",
    "После того, как вы изменили обучающую и тестовую выборки, сохраните первые 10 строк полученного промежуточного датафрейма обучающей выборки (`X_train`) в файл в формате csv с сепаратором `;`. Не забудьте индекс. Отправьте полученный файл в форму ниже.\n",
    "\n",
    "Список колонок которые должны быть в файле для сдачи:\n",
    "```py\n",
    "cols = [\n",
    "    \"km_driven\",\n",
    "    \"name\",\n",
    "    \"year\",\n",
    "    \"fuel\",\n",
    "    \"seller_type\",\n",
    "    \"transmission\",\n",
    "    \"owner\"\n",
    "]\n",
    "```"
   ]
  },
  {
   "cell_type": "markdown",
   "metadata": {
    "id": "942UEr0bV7yb"
   },
   "source": [
    "### Ваше решение\n"
   ]
  },
  {
   "cell_type": "markdown",
   "metadata": {
    "id": "GLSV8-OrWO6_"
   },
   "source": [
    "Разделение колонок на категориальные и числовые."
   ]
  },
  {
   "cell_type": "code",
   "execution_count": 6,
   "metadata": {
    "id": "jfENggauyF0S"
   },
   "outputs": [
    {
     "data": {
      "text/html": [
       "<div>\n",
       "<style scoped>\n",
       "    .dataframe tbody tr th:only-of-type {\n",
       "        vertical-align: middle;\n",
       "    }\n",
       "\n",
       "    .dataframe tbody tr th {\n",
       "        vertical-align: top;\n",
       "    }\n",
       "\n",
       "    .dataframe thead th {\n",
       "        text-align: right;\n",
       "    }\n",
       "</style>\n",
       "<table border=\"1\" class=\"dataframe\">\n",
       "  <thead>\n",
       "    <tr style=\"text-align: right;\">\n",
       "      <th></th>\n",
       "      <th>name</th>\n",
       "      <th>year</th>\n",
       "      <th>km_driven</th>\n",
       "      <th>fuel</th>\n",
       "      <th>seller_type</th>\n",
       "      <th>transmission</th>\n",
       "      <th>owner</th>\n",
       "    </tr>\n",
       "  </thead>\n",
       "  <tbody>\n",
       "    <tr>\n",
       "      <th>0</th>\n",
       "      <td>Maruti 800 AC</td>\n",
       "      <td>2007</td>\n",
       "      <td>70000</td>\n",
       "      <td>Petrol</td>\n",
       "      <td>Individual</td>\n",
       "      <td>Manual</td>\n",
       "      <td>First Owner</td>\n",
       "    </tr>\n",
       "    <tr>\n",
       "      <th>1</th>\n",
       "      <td>Maruti Wagon R LXI Minor</td>\n",
       "      <td>2007</td>\n",
       "      <td>50000</td>\n",
       "      <td>Petrol</td>\n",
       "      <td>Individual</td>\n",
       "      <td>Manual</td>\n",
       "      <td>First Owner</td>\n",
       "    </tr>\n",
       "    <tr>\n",
       "      <th>2</th>\n",
       "      <td>Hyundai Verna 1.6 SX</td>\n",
       "      <td>2012</td>\n",
       "      <td>100000</td>\n",
       "      <td>Diesel</td>\n",
       "      <td>Individual</td>\n",
       "      <td>Manual</td>\n",
       "      <td>First Owner</td>\n",
       "    </tr>\n",
       "    <tr>\n",
       "      <th>3</th>\n",
       "      <td>Datsun RediGO T Option</td>\n",
       "      <td>2017</td>\n",
       "      <td>46000</td>\n",
       "      <td>Petrol</td>\n",
       "      <td>Individual</td>\n",
       "      <td>Manual</td>\n",
       "      <td>First Owner</td>\n",
       "    </tr>\n",
       "    <tr>\n",
       "      <th>4</th>\n",
       "      <td>Honda Amaze VX i-DTEC</td>\n",
       "      <td>2014</td>\n",
       "      <td>141000</td>\n",
       "      <td>Diesel</td>\n",
       "      <td>Individual</td>\n",
       "      <td>Manual</td>\n",
       "      <td>Second Owner</td>\n",
       "    </tr>\n",
       "  </tbody>\n",
       "</table>\n",
       "</div>"
      ],
      "text/plain": [
       "                       name  year  km_driven    fuel seller_type transmission  \\\n",
       "0             Maruti 800 AC  2007      70000  Petrol  Individual       Manual   \n",
       "1  Maruti Wagon R LXI Minor  2007      50000  Petrol  Individual       Manual   \n",
       "2      Hyundai Verna 1.6 SX  2012     100000  Diesel  Individual       Manual   \n",
       "3    Datsun RediGO T Option  2017      46000  Petrol  Individual       Manual   \n",
       "4     Honda Amaze VX i-DTEC  2014     141000  Diesel  Individual       Manual   \n",
       "\n",
       "          owner  \n",
       "0   First Owner  \n",
       "1   First Owner  \n",
       "2   First Owner  \n",
       "3   First Owner  \n",
       "4  Second Owner  "
      ]
     },
     "execution_count": 6,
     "metadata": {},
     "output_type": "execute_result"
    }
   ],
   "source": [
    "object_cols = ['name', 'year', 'fuel', 'seller_type', 'transmission', 'owner']\n",
    "num_cols = ['km_driven']\n",
    "\n",
    "X.head()"
   ]
  },
  {
   "cell_type": "markdown",
   "metadata": {
    "id": "Vudi3wkzWToS"
   },
   "source": [
    "Реализация класса MeanTargetEncoderNoise."
   ]
  },
  {
   "cell_type": "code",
   "execution_count": 7,
   "metadata": {
    "id": "038NwxXGyF0S"
   },
   "outputs": [],
   "source": [
    "from sklearn.base import BaseEstimator, TransformerMixin\n",
    "\n",
    "class MeanTargetEncoderNoise(BaseEstimator, TransformerMixin):\n",
    "\n",
    "\n",
    "    def __init__(self, categorical, numeric):              \n",
    "        ### Your code is here\n",
    "\n",
    "        self.categorical = categorical\n",
    "        self.numeric = numeric\n",
    "        self.mean_target = {}\n",
    "        self.C = 0.006\n",
    "\n",
    "    \n",
    "    def fit(self, X, y):\n",
    "        ### Your code is here\n",
    "\n",
    "        for col in self.categorical:\n",
    "            df = pd.DataFrame({'feature': X[col], 'target': y})\n",
    "            mean_target = df.groupby(['feature'])['target'].mean()\n",
    "            self.mean_target[col] = mean_target\n",
    "        \n",
    "        for col in self.numeric:\n",
    "            self.mean_target[col] = y.mean()\n",
    "\n",
    "            return self\n",
    "        \n",
    "    def transform(self, X):\n",
    "        ### Your code is here\n",
    "        \n",
    "        temp = X.copy()\n",
    "\n",
    "        for col in self.categorical:\n",
    "            temp[col] = temp[col].map(self.mean_target[col])\n",
    "            temp[col] = temp[col]+self.C*np.random.randn(len(X))\n",
    "            temp[col] = temp[col].fillna(0)\n",
    "        \n",
    "        for col in self.numeric:\n",
    "            temp[col] = temp[col].fillna(self.mean_target[col])\n",
    "\n",
    "        return temp"
   ]
  },
  {
   "cell_type": "markdown",
   "metadata": {
    "id": "SDt0igudWbUE"
   },
   "source": [
    "Проверка работы трансформера."
   ]
  },
  {
   "cell_type": "code",
   "execution_count": 8,
   "metadata": {
    "id": "cQSYkr1WyF0T"
   },
   "outputs": [
    {
     "data": {
      "text/html": [
       "<div>\n",
       "<style scoped>\n",
       "    .dataframe tbody tr th:only-of-type {\n",
       "        vertical-align: middle;\n",
       "    }\n",
       "\n",
       "    .dataframe tbody tr th {\n",
       "        vertical-align: top;\n",
       "    }\n",
       "\n",
       "    .dataframe thead th {\n",
       "        text-align: right;\n",
       "    }\n",
       "</style>\n",
       "<table border=\"1\" class=\"dataframe\">\n",
       "  <thead>\n",
       "    <tr style=\"text-align: right;\">\n",
       "      <th></th>\n",
       "      <th>name</th>\n",
       "      <th>year</th>\n",
       "      <th>km_driven</th>\n",
       "      <th>fuel</th>\n",
       "      <th>seller_type</th>\n",
       "      <th>transmission</th>\n",
       "      <th>owner</th>\n",
       "    </tr>\n",
       "  </thead>\n",
       "  <tbody>\n",
       "    <tr>\n",
       "      <th>3294</th>\n",
       "      <td>13.478865</td>\n",
       "      <td>13.430921</td>\n",
       "      <td>50000</td>\n",
       "      <td>13.088541</td>\n",
       "      <td>12.609423</td>\n",
       "      <td>13.759065</td>\n",
       "      <td>12.964161</td>\n",
       "    </tr>\n",
       "    <tr>\n",
       "      <th>2290</th>\n",
       "      <td>12.111783</td>\n",
       "      <td>11.901925</td>\n",
       "      <td>70000</td>\n",
       "      <td>12.457036</td>\n",
       "      <td>12.620399</td>\n",
       "      <td>13.777324</td>\n",
       "      <td>12.962823</td>\n",
       "    </tr>\n",
       "    <tr>\n",
       "      <th>874</th>\n",
       "      <td>12.298593</td>\n",
       "      <td>13.336935</td>\n",
       "      <td>50000</td>\n",
       "      <td>12.455670</td>\n",
       "      <td>12.616451</td>\n",
       "      <td>12.645775</td>\n",
       "      <td>12.984195</td>\n",
       "    </tr>\n",
       "    <tr>\n",
       "      <th>1907</th>\n",
       "      <td>12.477658</td>\n",
       "      <td>13.055335</td>\n",
       "      <td>92198</td>\n",
       "      <td>12.463101</td>\n",
       "      <td>13.152012</td>\n",
       "      <td>12.637086</td>\n",
       "      <td>12.452642</td>\n",
       "    </tr>\n",
       "    <tr>\n",
       "      <th>3244</th>\n",
       "      <td>12.397144</td>\n",
       "      <td>12.857059</td>\n",
       "      <td>3240</td>\n",
       "      <td>12.454647</td>\n",
       "      <td>12.614863</td>\n",
       "      <td>12.627399</td>\n",
       "      <td>12.471970</td>\n",
       "    </tr>\n",
       "    <tr>\n",
       "      <th>1089</th>\n",
       "      <td>12.676751</td>\n",
       "      <td>13.438608</td>\n",
       "      <td>10000</td>\n",
       "      <td>12.455622</td>\n",
       "      <td>13.131947</td>\n",
       "      <td>12.644854</td>\n",
       "      <td>12.969999</td>\n",
       "    </tr>\n",
       "    <tr>\n",
       "      <th>3902</th>\n",
       "      <td>11.707359</td>\n",
       "      <td>11.497869</td>\n",
       "      <td>90000</td>\n",
       "      <td>12.449646</td>\n",
       "      <td>12.623791</td>\n",
       "      <td>12.639662</td>\n",
       "      <td>11.873113</td>\n",
       "    </tr>\n",
       "    <tr>\n",
       "      <th>2215</th>\n",
       "      <td>11.117254</td>\n",
       "      <td>11.502353</td>\n",
       "      <td>79000</td>\n",
       "      <td>12.452455</td>\n",
       "      <td>12.611637</td>\n",
       "      <td>12.632816</td>\n",
       "      <td>12.461447</td>\n",
       "    </tr>\n",
       "    <tr>\n",
       "      <th>3862</th>\n",
       "      <td>13.173893</td>\n",
       "      <td>13.339740</td>\n",
       "      <td>99700</td>\n",
       "      <td>13.085635</td>\n",
       "      <td>12.615428</td>\n",
       "      <td>12.632198</td>\n",
       "      <td>12.965374</td>\n",
       "    </tr>\n",
       "    <tr>\n",
       "      <th>705</th>\n",
       "      <td>12.997664</td>\n",
       "      <td>12.239908</td>\n",
       "      <td>124000</td>\n",
       "      <td>13.095024</td>\n",
       "      <td>12.616603</td>\n",
       "      <td>12.633892</td>\n",
       "      <td>12.460185</td>\n",
       "    </tr>\n",
       "  </tbody>\n",
       "</table>\n",
       "</div>"
      ],
      "text/plain": [
       "           name       year  km_driven       fuel  seller_type  transmission  \\\n",
       "3294  13.478865  13.430921      50000  13.088541    12.609423     13.759065   \n",
       "2290  12.111783  11.901925      70000  12.457036    12.620399     13.777324   \n",
       "874   12.298593  13.336935      50000  12.455670    12.616451     12.645775   \n",
       "1907  12.477658  13.055335      92198  12.463101    13.152012     12.637086   \n",
       "3244  12.397144  12.857059       3240  12.454647    12.614863     12.627399   \n",
       "1089  12.676751  13.438608      10000  12.455622    13.131947     12.644854   \n",
       "3902  11.707359  11.497869      90000  12.449646    12.623791     12.639662   \n",
       "2215  11.117254  11.502353      79000  12.452455    12.611637     12.632816   \n",
       "3862  13.173893  13.339740      99700  13.085635    12.615428     12.632198   \n",
       "705   12.997664  12.239908     124000  13.095024    12.616603     12.633892   \n",
       "\n",
       "          owner  \n",
       "3294  12.964161  \n",
       "2290  12.962823  \n",
       "874   12.984195  \n",
       "1907  12.452642  \n",
       "3244  12.471970  \n",
       "1089  12.969999  \n",
       "3902  11.873113  \n",
       "2215  12.461447  \n",
       "3862  12.965374  \n",
       "705   12.460185  "
      ]
     },
     "execution_count": 8,
     "metadata": {},
     "output_type": "execute_result"
    }
   ],
   "source": [
    "np.random.seed(1)\n",
    "transformer = MeanTargetEncoderNoise(categorical=object_cols, numeric=num_cols)\n",
    "\n",
    "transformer.fit(X_train, y_train)\n",
    "\n",
    "train = transformer.transform(X_train)\n",
    "test = transformer.transform(X_test)\n",
    "\n",
    "train.head(10)"
   ]
  },
  {
   "cell_type": "markdown",
   "metadata": {
    "id": "-9cgA3knyF0U"
   },
   "source": [
    "Обучите несколько деревьев, перебирая максимальную глубину алгоритма из списка `max_depth_list`, а остальные параметры оставьте дефолтными. Выведите лучшее значение гиперпараметра. Постройте график зависимости MSLE на тестовой выборке от значения гиперпараметра. Воспользуйтесь `Pipeline` без `GridSearch`. Проделайте то же самое с `min_samples_split`, `min_impurity_decrease`, `max_leaf_nodes`. (по 2б на каждый параметр)"
   ]
  },
  {
   "cell_type": "code",
   "execution_count": 9,
   "metadata": {
    "id": "VQCYxECdyF0U"
   },
   "outputs": [],
   "source": [
    "max_depth_list = [3, 5, 8, 12]\n",
    "min_samples_split_list = [10, 50, 100, 500]\n",
    "min_impurity_decrease_list = [0, 0.1, 0.15, 0.2]\n",
    "max_leaf_nodes_list = [100, 200, 500]"
   ]
  },
  {
   "cell_type": "code",
   "execution_count": 10,
   "metadata": {
    "id": "rRRl1cBayF0U"
   },
   "outputs": [
    {
     "name": "stdout",
     "output_type": "stream",
     "text": [
      "{'max_depth_3': 0.8184502153108858, 'max_depth_5': 1.3884604913851668, 'max_depth_8': 1.5777082939155207, 'max_depth_12': 2.0055282316632255}\n"
     ]
    }
   ],
   "source": [
    "from sklearn.metrics import mean_squared_error as mse\n",
    "from sklearn.tree import DecisionTreeRegressor\n",
    "from sklearn.pipeline import Pipeline\n",
    "\n",
    "np.random.seed(1)\n",
    "\n",
    "### Your code is here\n",
    "\n",
    "result_test = {}\n",
    "result_train = {}\n",
    "\n",
    "for d in max_depth_list:\n",
    "    pipe = Pipeline([\n",
    "        ('custom_transformer', MeanTargetEncoderNoise(categorical=object_cols, numeric=num_cols)),\n",
    "        ('decision_tree', DecisionTreeRegressor(max_depth=d))\n",
    "    ])\n",
    "\n",
    "    pipe.fit(X_train, y_train)\n",
    "    mse_train = mse(y_train, pipe.predict(X_train))\n",
    "    mse_test = mse(y_test, pipe.predict(X_test))\n",
    "    max_depth = f'max_depth_{d}'\n",
    "    result_train.update({max_depth: mse_train})\n",
    "    result_test.update({max_depth: mse_test})\n",
    "\n",
    "print(result_test)"
   ]
  },
  {
   "cell_type": "code",
   "execution_count": null,
   "metadata": {},
   "outputs": [],
   "source": [
    "from sklearn.metrics import mean_squared_log_error\n",
    "\n",
    "\n",
    "def best_hyperparameter(name, values, X_train, y_train, X_test, y_test):\n",
    "\n",
    "    msle = []\n",
    "\n",
    "    for value in values:\n",
    "        pipeline = Pipeline([\n",
    "            ('encoder', MeanTargetEncoderNoise(categorical=object_cols, numeric=num_cols)),\n",
    "            ('model', DecisionTreeRegressor(**{name: value}))\n",
    "        ])\n",
    "\n",
    "        pipeline.fit(X_train, y_train)\n",
    "        y_pred_train = pipeline.predict(X_train)\n",
    "        y_pred_test = pipeline.predict(X_test)\n",
    "\n",
    "        # msle_train = mean_squared_log_error(y_train, y_pred_train)\n",
    "        msle_test = mean_squared_log_error(y_test, y_pred_test)\n",
    "\n",
    "        print(f'Значение: {name}: {value}')\n",
    "        print(f'MSLE test: {msle_test}')\n",
    "        msle.append(msle_test)\n",
    "\n",
    "    plt.plot(values, msle)\n",
    "    plt.xlabel(name)\n",
    "    plt.ylabel('msle')\n",
    "    plt.title(f'MSLE vs {name}')\n",
    "    plt.show()\n",
    "\n",
    "    best_value = values[np.argmin(msle)]\n",
    "\n",
    "    print(f'Лучшее значение {name}: {best_value}')\n",
    "    print(f'Лучшее MLSE: {round(min(msle), 3)}')\n",
    "\n",
    "    return best_value"
   ]
  },
  {
   "cell_type": "code",
   "execution_count": null,
   "metadata": {},
   "outputs": [],
   "source": [
    "best_depth = best_hyperparameter('max_depth', max_depth_list, X_train, y_train, X_test, y_test)"
   ]
  },
  {
   "cell_type": "markdown",
   "metadata": {
    "id": "TBkYnUa7yF0V"
   },
   "source": [
    "Подберите лучшую комбинацию параметров, используя `GridSearchCV` и набор массивов значений параметров из предыдущего задания. Для лучшей комбинации посчитайте MSLE на тестовой выборке. Получились ли лучшие параметры такими же, как если бы вы подбирали их по-отдельности при остальных гиперпараметрах по умолчанию (предыдущее задание)? (2б)"
   ]
  },
  {
   "cell_type": "code",
   "execution_count": null,
   "metadata": {
    "id": "CnUu33ojyF0V"
   },
   "outputs": [],
   "source": [
    "# from sklearn.model_selection import GridSearchCV\n",
    "\n",
    "# param_grid = {\n",
    "#     \"decision_tree__max_depth\": [3, 5, 8, 12],\n",
    "#     \"decision_tree__min_samples_split\": [10, 50, 100, 500],\n",
    "#     \"decision_tree__min_impurity_decrease\": [0, 0.1, 0.15, 0.2],\n",
    "#     \"decision_tree__max_leaf_nodes\": [100, 200, 500]\n",
    "# }\n",
    "# np.random.seed(1)\n",
    "\n",
    "# ### Your code is here\n",
    "\n",
    "# search = GridSearchCV(\n",
    "#     pipe,\n",
    "#     param_grid,\n",
    "#     scoring='neg_mean_squared_error',\n",
    "#     verbose=2\n",
    "# )\n",
    "\n",
    "# search.fit(X_train, y_train)\n",
    "\n",
    "# print(f'Best parameter (CV score={search.best_score_:.5f}):')\n",
    "# print(search.best_params_)\n",
    "# print(f'Лучшее качество на тесте: {search.score(X_test, y_test)}')"
   ]
  },
  {
   "cell_type": "code",
   "execution_count": null,
   "metadata": {},
   "outputs": [],
   "source": []
  }
 ],
 "metadata": {
  "colab": {
   "provenance": []
  },
  "interpreter": {
   "hash": "8db21564b35bbdf2f1295d2e540489014671416f5dc577a5b9d4ca56833a3713"
  },
  "kernelspec": {
   "display_name": "Python 3",
   "language": "python",
   "name": "python3"
  },
  "language_info": {
   "codemirror_mode": {
    "name": "ipython",
    "version": 3
   },
   "file_extension": ".py",
   "mimetype": "text/x-python",
   "name": "python",
   "nbconvert_exporter": "python",
   "pygments_lexer": "ipython3",
   "version": "3.11.5"
  }
 },
 "nbformat": 4,
 "nbformat_minor": 0
}
